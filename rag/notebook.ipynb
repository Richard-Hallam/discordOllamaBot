{
 "cells": [
  {
   "cell_type": "code",
   "execution_count": null,
   "metadata": {},
   "outputs": [],
   "source": [
    "import os \n",
    "from dotenv import load_dotenv\n",
    "from langchain_community.llms import Ollama\n",
    "\n",
    "MODEL='llama3.2' \n",
    "\n",
    "from langhain_community import Ollama\n",
    "\n",
    "model = Ollama(model=MODEL)\n",
    "model.invoke(\"tell me a joke\")"
   ]
  }
 ],
 "metadata": {
  "kernelspec": {
   "display_name": "bot-env",
   "language": "python",
   "name": "python3"
  },
  "language_info": {
   "name": "python",
   "version": "3.13.0"
  }
 },
 "nbformat": 4,
 "nbformat_minor": 2
}
